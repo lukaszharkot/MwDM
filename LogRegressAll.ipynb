{
 "cells": [
  {
   "cell_type": "markdown",
   "metadata": {},
   "source": [
    "Importujemy potrzebne biblioteki"
   ]
  },
  {
   "cell_type": "code",
   "execution_count": 3,
   "metadata": {},
   "outputs": [],
   "source": [
    "#Zastosowane w piewszym i drugim modelu\n",
    "from numpy import *\n",
    "import math\n",
    "\n",
    "#Zastosowane w drugim modelu\n",
    "from sklearn.linear_model import LogisticRegression\n",
    "from sklearn.metrics import accuracy_score"
   ]
  },
  {
   "cell_type": "markdown",
   "metadata": {},
   "source": [
    "Wczytujemy dane z plików \"horseColicTraining\" oraz \"horseColicTest\" i zapisujemy je w zmiennych trainingSet, trainingLabels oraz testSet, testLabels."
   ]
  },
  {
   "cell_type": "code",
   "execution_count": 4,
   "metadata": {},
   "outputs": [],
   "source": [
    "# Funkcja wczytująca dane z pliku \"file_name\", zapisuje dane w zmiennych \"data_set\" (cechy) i \"data_labels\" (etykiety)\n",
    "def load_data(file_name):\n",
    "    data_set = []\n",
    "    data_labels = []\n",
    "    with open(file_name) as fr:\n",
    "        for line in fr.readlines():\n",
    "            curr_line = line.strip().split('\\t') # Rozdzielamy dane na kolumny (dane oddzielone tabulatorem)\n",
    "            line_arr = [float(curr_line[i]) for i in range(21)]  # Pierwsze 21 kolumn to cechy\n",
    "            data_set.append(line_arr) # Dodajemy cechy do data_set\n",
    "            data_labels.append(float(curr_line[21]))  # 22 kolumna to etykiety. Dodajemy etykiety do data_labels\n",
    "    return array(data_set), array(data_labels)\n",
    "\n",
    "# Wczytujemy zestawy danych treningowych i testowych\n",
    "trainingSet, trainingLabels = load_data('horseColicTraining.txt')\n",
    "testSet, testLabels = load_data('horseColicTest.txt')\n"
   ]
  },
  {
   "cell_type": "markdown",
   "metadata": {},
   "source": [
    "Zaimplementowanie modelu regresji logistycznej na przykładzie podanym na https://github.com/pbharrin/machinelearninginaction"
   ]
  },
  {
   "cell_type": "code",
   "execution_count": 5,
   "metadata": {},
   "outputs": [],
   "source": [
    "# Funkcja sigmoid — oblicza prawdopodobieństwo na podstawie funkcji logistycznej\n",
    "def sigmoid(inX):\n",
    "    return 1.0 / (1 + exp(-inX)) # Funkcja logistyczna, która zwraca wartości w przedziale (0, 1)\n",
    "\n",
    "# Funkcja klasyfikująca wektor cech na podstawie wagi modelu\n",
    "def classifyVector(inX, weights):\n",
    "    prob = sigmoid(sum(inX * weights)) # Obliczamy prawdopodobieństwo\n",
    "    return 1.0 if prob > 0.5 else 0.0 # Zwracamy 1.0 jeśli prawdopodobieństwo > 0.5, w przeciwnym razie 0.0\n",
    "\n",
    "def LogRegress(dataMatrix, classLabels, numIter=150):\n",
    "    m, n = shape(dataMatrix) # m — liczba próbek, n — liczba cech\n",
    "    weights = ones(n)   #  Inicjalizujemy wagi na wartość 1\n",
    "    for j in range(numIter):\n",
    "        dataIndex = list(range(m))\n",
    "        for i in range(m): # Dla każdej próbki\n",
    "            alpha = 4 / (1.0 + j + i) + 0.0001\n",
    "            randIndex = int(random.uniform(0, len(dataIndex)))  \n",
    "            h = sigmoid(sum(dataMatrix[randIndex] * weights)) # Obliczamy prawdopodobieństwo przy użyciu funkcji sigmoid\n",
    "            error = classLabels[randIndex] - h\n",
    "            weights = weights + alpha * error * dataMatrix[randIndex]\n",
    "            del(dataIndex[randIndex])  # Usuwamy użyty indeks, by nie powtarzać tej samej próbki\n",
    "    return weights\n",
    "\n"
   ]
  },
  {
   "cell_type": "markdown",
   "metadata": {},
   "source": [
    "Uczenie modelu i klasyfikacja predykcji oraz wyświetlenie spredyktowanych przez nasz model wartości w porównaniu do rzeczywistych wartości, a także jego dokładności."
   ]
  },
  {
   "cell_type": "code",
   "execution_count": 10,
   "metadata": {},
   "outputs": [
    {
     "name": "stderr",
     "output_type": "stream",
     "text": [
      "C:\\Users\\harko\\AppData\\Local\\Temp\\ipykernel_16204\\4020559383.py:3: RuntimeWarning: overflow encountered in exp\n",
      "  return 1.0 / (1 + exp(-inX)) # Funkcja logistyczna, która zwraca wartości w przedziale (0, 1)\n"
     ]
    },
    {
     "name": "stdout",
     "output_type": "stream",
     "text": [
      "\n",
      "Predyktowane i rzeczywiste wartości:\n",
      "Predyktowana: 1, Rzeczywista: 1\n",
      "Predyktowana: 1, Rzeczywista: 1\n",
      "Predyktowana: 1, Rzeczywista: 1\n",
      "Predyktowana: 0, Rzeczywista: 0\n",
      "Predyktowana: 0, Rzeczywista: 1\n",
      "Predyktowana: 1, Rzeczywista: 1\n",
      "Predyktowana: 1, Rzeczywista: 1\n",
      "Predyktowana: 1, Rzeczywista: 1\n",
      "Predyktowana: 1, Rzeczywista: 1\n",
      "Predyktowana: 0, Rzeczywista: 0\n",
      "Predyktowana: 1, Rzeczywista: 1\n",
      "Predyktowana: 0, Rzeczywista: 0\n",
      "Predyktowana: 0, Rzeczywista: 0\n",
      "Predyktowana: 0, Rzeczywista: 1\n",
      "Predyktowana: 0, Rzeczywista: 1\n",
      "Predyktowana: 1, Rzeczywista: 1\n",
      "Predyktowana: 1, Rzeczywista: 1\n",
      "Predyktowana: 0, Rzeczywista: 0\n",
      "Predyktowana: 0, Rzeczywista: 0\n",
      "Predyktowana: 0, Rzeczywista: 0\n",
      "Predyktowana: 0, Rzeczywista: 1\n",
      "Predyktowana: 1, Rzeczywista: 1\n",
      "Predyktowana: 0, Rzeczywista: 0\n",
      "Predyktowana: 0, Rzeczywista: 0\n",
      "Predyktowana: 1, Rzeczywista: 1\n",
      "Predyktowana: 1, Rzeczywista: 1\n",
      "Predyktowana: 1, Rzeczywista: 1\n",
      "Predyktowana: 0, Rzeczywista: 1\n",
      "Predyktowana: 1, Rzeczywista: 1\n",
      "Predyktowana: 1, Rzeczywista: 1\n",
      "Predyktowana: 1, Rzeczywista: 1\n",
      "Predyktowana: 0, Rzeczywista: 1\n",
      "Predyktowana: 0, Rzeczywista: 1\n",
      "Predyktowana: 0, Rzeczywista: 0\n",
      "Predyktowana: 0, Rzeczywista: 1\n",
      "Predyktowana: 0, Rzeczywista: 0\n",
      "Predyktowana: 1, Rzeczywista: 1\n",
      "Predyktowana: 0, Rzeczywista: 1\n",
      "Predyktowana: 1, Rzeczywista: 1\n",
      "Predyktowana: 1, Rzeczywista: 1\n",
      "Predyktowana: 1, Rzeczywista: 1\n",
      "Predyktowana: 1, Rzeczywista: 1\n",
      "Predyktowana: 0, Rzeczywista: 1\n",
      "Predyktowana: 0, Rzeczywista: 0\n",
      "Predyktowana: 0, Rzeczywista: 1\n",
      "Predyktowana: 0, Rzeczywista: 1\n",
      "Predyktowana: 1, Rzeczywista: 1\n",
      "Predyktowana: 0, Rzeczywista: 1\n",
      "Predyktowana: 1, Rzeczywista: 1\n",
      "Predyktowana: 0, Rzeczywista: 0\n",
      "Predyktowana: 0, Rzeczywista: 0\n",
      "Predyktowana: 1, Rzeczywista: 0\n",
      "Predyktowana: 1, Rzeczywista: 0\n",
      "Predyktowana: 0, Rzeczywista: 1\n",
      "Predyktowana: 1, Rzeczywista: 1\n",
      "Predyktowana: 1, Rzeczywista: 1\n",
      "Predyktowana: 1, Rzeczywista: 1\n",
      "Predyktowana: 1, Rzeczywista: 0\n",
      "Predyktowana: 0, Rzeczywista: 1\n",
      "Predyktowana: 0, Rzeczywista: 1\n",
      "Predyktowana: 1, Rzeczywista: 1\n",
      "Predyktowana: 0, Rzeczywista: 0\n",
      "Predyktowana: 1, Rzeczywista: 1\n",
      "Predyktowana: 1, Rzeczywista: 1\n",
      "Predyktowana: 1, Rzeczywista: 0\n",
      "Predyktowana: 0, Rzeczywista: 1\n",
      "Predyktowana: 1, Rzeczywista: 0\n",
      "\n",
      "Dokładność modelu: 67.16%\n"
     ]
    }
   ],
   "source": [
    "\n",
    "trainWeights = LogRegress(array(trainingSet), trainingLabels, 1000)  # Trenowanie modelu za pomocą przykładu podanego na github \n",
    "    \n",
    "errorCount = 0\n",
    "sample = 0\n",
    "predictions = []  \n",
    "actuals = [] \n",
    "    \n",
    "for i in range(len(testSet)):\n",
    "    sample += 1\n",
    "    lineArr = testSet[i]\n",
    "    \n",
    "    # Klasyfikacja — prognozowanie etykiety dla przykładu testowego\n",
    "    predicted = classifyVector(lineArr, trainWeights)\n",
    "    predictions.append(predicted)\n",
    "    # Pobieramy rzeczywistą etykietę\n",
    "    actual = int(testLabels[i])\n",
    "    actuals.append(actual)\n",
    "    \n",
    "    # Sprawdzamy, czy predykcja była poprawna\n",
    "    if int(predicted) != actual:\n",
    "        errorCount += 1\n",
    "\n",
    "print(\"\\nPredyktowane i rzeczywiste wartości:\")\n",
    "for predicted, actual in zip(predictions, actuals):\n",
    "    print(f\"Predyktowana: {math.ceil(predicted)}, Rzeczywista: {math.ceil(actual)}\")\n",
    "    \n",
    "accuracyRate = 1 - (errorCount / sample)\n",
    "print(f\"\\nDokładność modelu: {accuracyRate * 100:.2f}%\")   "
   ]
  },
  {
   "cell_type": "markdown",
   "metadata": {},
   "source": [
    "Uczenie modelu LogisticRegression z biblioteki \"scikit-learn\". Wyświetlanie predyktowanych i rzeczywistych wartości oraz dokładności modelu."
   ]
  },
  {
   "cell_type": "code",
   "execution_count": 7,
   "metadata": {},
   "outputs": [
    {
     "name": "stdout",
     "output_type": "stream",
     "text": [
      "\n",
      "Predyktowane i rzeczywiste wartości:\n",
      "Predyktowana: 1, Rzeczywista: 1\n",
      "Predyktowana: 1, Rzeczywista: 1\n",
      "Predyktowana: 1, Rzeczywista: 1\n",
      "Predyktowana: 1, Rzeczywista: 0\n",
      "Predyktowana: 1, Rzeczywista: 1\n",
      "Predyktowana: 1, Rzeczywista: 1\n",
      "Predyktowana: 1, Rzeczywista: 1\n",
      "Predyktowana: 1, Rzeczywista: 1\n",
      "Predyktowana: 1, Rzeczywista: 1\n",
      "Predyktowana: 0, Rzeczywista: 0\n",
      "Predyktowana: 1, Rzeczywista: 1\n",
      "Predyktowana: 0, Rzeczywista: 0\n",
      "Predyktowana: 0, Rzeczywista: 0\n",
      "Predyktowana: 1, Rzeczywista: 1\n",
      "Predyktowana: 1, Rzeczywista: 1\n",
      "Predyktowana: 1, Rzeczywista: 1\n",
      "Predyktowana: 1, Rzeczywista: 1\n",
      "Predyktowana: 0, Rzeczywista: 0\n",
      "Predyktowana: 0, Rzeczywista: 0\n",
      "Predyktowana: 1, Rzeczywista: 0\n",
      "Predyktowana: 0, Rzeczywista: 1\n",
      "Predyktowana: 1, Rzeczywista: 1\n",
      "Predyktowana: 0, Rzeczywista: 0\n",
      "Predyktowana: 0, Rzeczywista: 0\n",
      "Predyktowana: 1, Rzeczywista: 1\n",
      "Predyktowana: 1, Rzeczywista: 1\n",
      "Predyktowana: 1, Rzeczywista: 1\n",
      "Predyktowana: 0, Rzeczywista: 1\n",
      "Predyktowana: 1, Rzeczywista: 1\n",
      "Predyktowana: 1, Rzeczywista: 1\n",
      "Predyktowana: 1, Rzeczywista: 1\n",
      "Predyktowana: 0, Rzeczywista: 1\n",
      "Predyktowana: 0, Rzeczywista: 1\n",
      "Predyktowana: 1, Rzeczywista: 0\n",
      "Predyktowana: 0, Rzeczywista: 1\n",
      "Predyktowana: 0, Rzeczywista: 0\n",
      "Predyktowana: 1, Rzeczywista: 1\n",
      "Predyktowana: 1, Rzeczywista: 1\n",
      "Predyktowana: 1, Rzeczywista: 1\n",
      "Predyktowana: 1, Rzeczywista: 1\n",
      "Predyktowana: 1, Rzeczywista: 1\n",
      "Predyktowana: 1, Rzeczywista: 1\n",
      "Predyktowana: 0, Rzeczywista: 1\n",
      "Predyktowana: 0, Rzeczywista: 0\n",
      "Predyktowana: 0, Rzeczywista: 1\n",
      "Predyktowana: 0, Rzeczywista: 1\n",
      "Predyktowana: 1, Rzeczywista: 1\n",
      "Predyktowana: 0, Rzeczywista: 1\n",
      "Predyktowana: 1, Rzeczywista: 1\n",
      "Predyktowana: 0, Rzeczywista: 0\n",
      "Predyktowana: 0, Rzeczywista: 0\n",
      "Predyktowana: 1, Rzeczywista: 0\n",
      "Predyktowana: 1, Rzeczywista: 0\n",
      "Predyktowana: 0, Rzeczywista: 1\n",
      "Predyktowana: 1, Rzeczywista: 1\n",
      "Predyktowana: 1, Rzeczywista: 1\n",
      "Predyktowana: 1, Rzeczywista: 1\n",
      "Predyktowana: 1, Rzeczywista: 0\n",
      "Predyktowana: 1, Rzeczywista: 1\n",
      "Predyktowana: 0, Rzeczywista: 1\n",
      "Predyktowana: 1, Rzeczywista: 1\n",
      "Predyktowana: 0, Rzeczywista: 0\n",
      "Predyktowana: 1, Rzeczywista: 1\n",
      "Predyktowana: 1, Rzeczywista: 1\n",
      "Predyktowana: 1, Rzeczywista: 0\n",
      "Predyktowana: 1, Rzeczywista: 1\n",
      "Predyktowana: 1, Rzeczywista: 0\n",
      "\n",
      "Dokładność modelu scikit-learn: 71.64%\n"
     ]
    }
   ],
   "source": [
    "\n",
    "\n",
    "model = LogisticRegression(max_iter=1000)  # Inicjalizujemy model regresji logistycznej scikit-learn\n",
    "model.fit(trainingSet, trainingLabels)  # Trenowanie modelu\n",
    "\n",
    "# Predykcja etykiet na zestawie testowym\n",
    "test_predictions = model.predict(testSet)\n",
    "\n",
    "print(\"\\nPredyktowane i rzeczywiste wartości:\")\n",
    "for predicted, actual in zip(test_predictions, testLabels):\n",
    "    print(f\"Predyktowana: {math.ceil(predicted)}, Rzeczywista: {math.ceil(actual)}\")\n",
    "\n",
    "accuracy = accuracy_score(testLabels, test_predictions)\n",
    "print(f\"\\nDokładność modelu scikit-learn: {accuracy * 100:.2f}%\")\n",
    "\n"
   ]
  },
  {
   "cell_type": "markdown",
   "metadata": {},
   "source": [
    "Uzyskać lepszy wynik w LogRegress"
   ]
  },
  {
   "cell_type": "markdown",
   "metadata": {},
   "source": [
    "Wygenerowac kilka losowych zbiorów i porównywać \n"
   ]
  },
  {
   "cell_type": "markdown",
   "metadata": {},
   "source": [
    "Dołączyć inną regresje i porównać (wielomianowa, drzewami) może być z biblioteki sckit-learn"
   ]
  },
  {
   "cell_type": "markdown",
   "metadata": {},
   "source": [
    "Wykres porównania z innym modelem Ground Truth + Testy"
   ]
  },
  {
   "cell_type": "markdown",
   "metadata": {},
   "source": [
    "na za 2 tyg"
   ]
  }
 ],
 "metadata": {
  "kernelspec": {
   "display_name": "Python 3",
   "language": "python",
   "name": "python3"
  },
  "language_info": {
   "codemirror_mode": {
    "name": "ipython",
    "version": 3
   },
   "file_extension": ".py",
   "mimetype": "text/x-python",
   "name": "python",
   "nbconvert_exporter": "python",
   "pygments_lexer": "ipython3",
   "version": "3.11.3"
  }
 },
 "nbformat": 4,
 "nbformat_minor": 2
}
