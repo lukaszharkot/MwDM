{
 "cells": [
  {
   "cell_type": "markdown",
   "id": "9ea2eafd",
   "metadata": {},
   "source": [
    "Importujemy potrzebne biblioteki"
   ]
  },
  {
   "cell_type": "code",
   "execution_count": 16,
   "id": "9bfe1283",
   "metadata": {},
   "outputs": [],
   "source": [
    "import os\n",
    "import datasets\n",
    "import numpy as np\n",
    "import pandas as pd\n",
    "import matplotlib.pyplot as plt\n",
    "from tensorflow.keras.layers import Embedding, LSTM, Dense\n",
    "from tensorflow.keras.models import Sequential\n",
    "from tensorflow.keras.optimizers import Adam\n",
    "from tensorflow.keras.preprocessing.text import Tokenizer\n",
    "from tensorflow.keras.preprocessing.sequence import pad_sequences"
   ]
  },
  {
   "cell_type": "markdown",
   "id": "34f24dcb",
   "metadata": {},
   "source": [
    "Pobieramy i przetwarzamy dane"
   ]
  },
  {
   "cell_type": "code",
   "execution_count": 17,
   "id": "4e8d1132",
   "metadata": {},
   "outputs": [
    {
     "name": "stderr",
     "output_type": "stream",
     "text": [
      "Creating json from Arrow format: 100%|██████████| 120/120 [00:00<00:00, 150.80ba/s]\n",
      "Creating json from Arrow format: 100%|██████████| 30/30 [00:00<00:00, 156.25ba/s]\n",
      "Creating json from Arrow format: 100%|██████████| 62/62 [00:00<00:00, 435.18ba/s]\n"
     ]
    }
   ],
   "source": [
    "# URL do pobrania danych\n",
    "_URL = \"https://raw.githubusercontent.com/cblancac/SentimentAnalysisBert/main/data/\"\n",
    "_URLS = {\n",
    "    \"train\": _URL + \"train_150k.txt\",\n",
    "    \"test\": _URL + \"test_62k.txt\"\n",
    "}\n",
    "\n",
    "# Funkcja przetwarzająca dane\n",
    "def _define_columns(example):\n",
    "    text_splited = example[\"text\"].split('\\t')\n",
    "    return {\"text\": text_splited[1].strip(), \"feeling\": int(text_splited[0])}\n",
    "\n",
    "# Pobranie danych\n",
    "data = datasets.load_dataset(\"text\", data_files=_URLS)\n",
    "\n",
    "# Przetwarzanie danych\n",
    "data = data.map(_define_columns)\n",
    "\n",
    "# Podział na zbiory treningowy, walidacyjny i testowy\n",
    "texts_dataset_clean = data[\"train\"].train_test_split(train_size=0.8, seed=42)\n",
    "\n",
    "# Zmiana nazwy zbioru testowego na walidacyjny i przypisanie oryginalnego zbioru testowego\n",
    "texts_dataset_clean[\"validation\"] = texts_dataset_clean.pop(\"test\")\n",
    "texts_dataset_clean[\"test\"] = data[\"test\"]\n",
    "\n",
    "# Ścieżka do zapisu danych w lokalnym folderze roboczym\n",
    "output_dir = os.getcwd()\n",
    "\n",
    "# Zapisanie danych do plików JSONL\n",
    "for split, dataset in texts_dataset_clean.items():\n",
    "    dataset.to_json(os.path.join(output_dir, f\"twitter-sentiment-analysis-{split}.jsonl\"))"
   ]
  },
  {
   "cell_type": "markdown",
   "id": "9c2b6c7d",
   "metadata": {},
   "source": [
    "Wczytujemy dane z przygotowanych plików JSONL"
   ]
  },
  {
   "cell_type": "code",
   "execution_count": 18,
   "id": "00a1b82c",
   "metadata": {},
   "outputs": [],
   "source": [
    "train_data = pd.read_json(\"twitter-sentiment-analysis-train.jsonl\", lines=True)\n",
    "val_data = pd.read_json(\"twitter-sentiment-analysis-validation.jsonl\", lines=True)\n",
    "test_data = pd.read_json(\"twitter-sentiment-analysis-test.jsonl\", lines=True)\n",
    "\n",
    "X_train, y_train = train_data[\"text\"], train_data[\"feeling\"]\n",
    "X_val, y_val = val_data[\"text\"], val_data[\"feeling\"]\n",
    "X_test, y_test = test_data[\"text\"], test_data[\"feeling\"]"
   ]
  },
  {
   "cell_type": "markdown",
   "id": "4c9169ae",
   "metadata": {},
   "source": [
    "Przygotowujemy dane"
   ]
  },
  {
   "cell_type": "code",
   "execution_count": 19,
   "id": "bbf3460c",
   "metadata": {},
   "outputs": [],
   "source": [
    "max_words = 20000\n",
    "max_len = 100\n",
    "\n",
    "tokenizer = Tokenizer(num_words=max_words)\n",
    "tokenizer.fit_on_texts(X_train)\n",
    "X_train_seq = tokenizer.texts_to_sequences(X_train)\n",
    "X_val_seq = tokenizer.texts_to_sequences(X_val)\n",
    "X_test_seq = tokenizer.texts_to_sequences(X_test)\n",
    "\n",
    "X_train_pad = pad_sequences(X_train_seq, maxlen=max_len)\n",
    "X_val_pad = pad_sequences(X_val_seq, maxlen=max_len)\n",
    "X_test_pad = pad_sequences(X_test_seq, maxlen=max_len)"
   ]
  },
  {
   "cell_type": "markdown",
   "id": "b815bd9e",
   "metadata": {},
   "source": [
    "Budujemy i trenujemy model"
   ]
  },
  {
   "cell_type": "code",
   "execution_count": 20,
   "id": "84d8a7ea",
   "metadata": {},
   "outputs": [
    {
     "name": "stdout",
     "output_type": "stream",
     "text": [
      "Epoch 1/5\n"
     ]
    },
    {
     "name": "stderr",
     "output_type": "stream",
     "text": [
      "c:\\Users\\harko\\AppData\\Local\\Programs\\Python\\Python311\\Lib\\site-packages\\keras\\src\\layers\\core\\embedding.py:90: UserWarning: Argument `input_length` is deprecated. Just remove it.\n",
      "  warnings.warn(\n"
     ]
    },
    {
     "name": "stdout",
     "output_type": "stream",
     "text": [
      "\u001b[1m938/938\u001b[0m \u001b[32m━━━━━━━━━━━━━━━━━━━━\u001b[0m\u001b[37m\u001b[0m \u001b[1m75s\u001b[0m 78ms/step - accuracy: 0.7214 - loss: 0.5351 - val_accuracy: 0.7885 - val_loss: 0.4504\n",
      "Epoch 2/5\n",
      "\u001b[1m938/938\u001b[0m \u001b[32m━━━━━━━━━━━━━━━━━━━━\u001b[0m\u001b[37m\u001b[0m \u001b[1m79s\u001b[0m 84ms/step - accuracy: 0.8216 - loss: 0.3937 - val_accuracy: 0.7945 - val_loss: 0.4410\n",
      "Epoch 3/5\n",
      "\u001b[1m938/938\u001b[0m \u001b[32m━━━━━━━━━━━━━━━━━━━━\u001b[0m\u001b[37m\u001b[0m \u001b[1m80s\u001b[0m 85ms/step - accuracy: 0.8488 - loss: 0.3383 - val_accuracy: 0.7927 - val_loss: 0.4611\n",
      "Epoch 4/5\n",
      "\u001b[1m938/938\u001b[0m \u001b[32m━━━━━━━━━━━━━━━━━━━━\u001b[0m\u001b[37m\u001b[0m \u001b[1m75s\u001b[0m 80ms/step - accuracy: 0.8689 - loss: 0.2944 - val_accuracy: 0.7864 - val_loss: 0.5059\n",
      "Epoch 5/5\n",
      "\u001b[1m938/938\u001b[0m \u001b[32m━━━━━━━━━━━━━━━━━━━━\u001b[0m\u001b[37m\u001b[0m \u001b[1m80s\u001b[0m 86ms/step - accuracy: 0.8902 - loss: 0.2494 - val_accuracy: 0.7805 - val_loss: 0.5782\n"
     ]
    }
   ],
   "source": [
    "model = Sequential([\n",
    "    Embedding(input_dim=max_words, output_dim=64, input_length=max_len),\n",
    "    LSTM(64, return_sequences=False),\n",
    "    Dense(32, activation='relu'),\n",
    "    Dense(1, activation='sigmoid')\n",
    "])\n",
    "\n",
    "model.compile(loss='binary_crossentropy', optimizer=Adam(learning_rate=0.001), metrics=['accuracy'])\n",
    "history = model.fit(X_train_pad, y_train, epochs=5, batch_size=128, validation_data=(X_val_pad, y_val))"
   ]
  },
  {
   "cell_type": "markdown",
   "id": "5b9a6c36",
   "metadata": {},
   "source": [
    "Wyświetlamy wykres dokładności modelu"
   ]
  },
  {
   "cell_type": "code",
   "execution_count": 29,
   "id": "0054d7f4",
   "metadata": {},
   "outputs": [
    {
     "data": {
      "image/png": "[encoded data removed]",
      "text/plain": [
       "<Figure size 640x480 with 1 Axes>"
      ]
     },
     "metadata": {},
     "output_type": "display_data"
    },
    {
     "name": "stdout",
     "output_type": "stream",
     "text": [
      "\u001b[1m1938/1938\u001b[0m \u001b[32m━━━━━━━━━━━━━━━━━━━━\u001b[0m\u001b[37m\u001b[0m \u001b[1m23s\u001b[0m 12ms/step - accuracy: 0.7824 - loss: 0.5820\n",
      "Dokładność na zbiorze testowym: 0.78\n"
     ]
    }
   ],
   "source": [
    "plt.plot(history.history['accuracy'], label='Trening')\n",
    "plt.plot(history.history['val_accuracy'], label='Walidacja')\n",
    "plt.xlabel('Epoka')\n",
    "plt.ylabel('Dokładność')\n",
    "plt.legend()\n",
    "plt.show()\n",
    "\n",
    "test_loss, test_acc = model.evaluate(X_test_pad, y_test)\n",
    "print(f'Dokładność na zbiorze testowym: {test_acc:.2f}')"
   ]
  },
  {
   "cell_type": "markdown",
   "id": "d5e0f15d",
   "metadata": {},
   "source": [
    "Wyświetlamy przykładowe predykcje i rzeczywiste etykiety"
   ]
  },
  {
   "cell_type": "code",
   "execution_count": 28,
   "id": "2c2145a4",
   "metadata": {},
   "outputs": [
    {
     "name": "stdout",
     "output_type": "stream",
     "text": [
      "Przykładowe predykcje:\n",
      "\u001b[1m1/1\u001b[0m \u001b[32m━━━━━━━━━━━━━━━━━━━━\u001b[0m\u001b[37m\u001b[0m \u001b[1m0s\u001b[0m 48ms/step\n",
      "\n",
      " Tweet: @justineville ...yeahhh. ) i'm 39 tweets from 1,600! \n",
      " Predykcja: Negatywna, Rzeczywista etykieta: Negatywna\n",
      "\n",
      " Tweet: @ApplesnFeathers aww. Poor baby! On your only REAL day off. \n",
      " Predykcja: Pozytywna, Rzeczywista etykieta: Pozytywna\n",
      "\n",
      " Tweet: @joeymcintyre With my refunded $225 (Australian ticket price) I bought me a hot pair of brown boots  Woulda rathered seeing U any day \n",
      " Predykcja: Pozytywna, Rzeczywista etykieta: Pozytywna\n",
      "\n",
      " Tweet: It's fine. Today sucks just because me those things. i dunno if i can see you \n",
      " Predykcja: Negatywna, Rzeczywista etykieta: Pozytywna\n",
      "\n",
      " Tweet: Im just chilling on psp and stuff, but sitting on pc now, also watching wimledon, getting ready for holiday @WhiteTigerNora Ahh poor you \n",
      " Predykcja: Negatywna, Rzeczywista etykieta: Negatywna\n",
      "\n",
      " Tweet: @lisarinna very sad Lisa...she is freeeeeeeeeeee an Angel in Heaven xoxo \n",
      " Predykcja: Pozytywna, Rzeczywista etykieta: Negatywna\n",
      "\n",
      " Tweet: Comfortablity has won out \n",
      " Predykcja: Negatywna, Rzeczywista etykieta: Negatywna\n",
      "\n",
      " Tweet: blaaah. I don't feel good aagain \n",
      " Predykcja: Pozytywna, Rzeczywista etykieta: Pozytywna\n"
     ]
    }
   ],
   "source": [
    "print('Przykładowe predykcje:')\n",
    "\n",
    "random_tweets = np.random.choice(len(X_test_pad), size=8, replace=False)\n",
    "predictions = model.predict(X_test_pad[random_tweets])\n",
    "for i, pred in enumerate(predictions):\n",
    "    actual_label = y_test.iloc[random_tweets[i]] \n",
    "    print(f'\\n Tweet: {X_test.iloc[i]} \\n Predykcja: {\"Pozytywna\" if pred > 0.5 else \"Negatywna\"}, Rzeczywista etykieta: {\"Pozytywna\" if actual_label == 1 else \"Negatywna\"}')"
   ]
  },
  {
   "cell_type": "markdown",
   "id": "62847d06",
   "metadata": {},
   "source": [
    "Usuwamy stworzone pliki JSONL"
   ]
  },
  {
   "cell_type": "code",
   "execution_count": 23,
   "id": "4f2be5a4",
   "metadata": {},
   "outputs": [
    {
     "name": "stdout",
     "output_type": "stream",
     "text": [
      "Usunięto plik: twitter-sentiment-analysis-train.jsonl\n",
      "Usunięto plik: twitter-sentiment-analysis-validation.jsonl\n",
      "Usunięto plik: twitter-sentiment-analysis-test.jsonl\n"
     ]
    }
   ],
   "source": [
    "files_to_delete = [\n",
    "    \"twitter-sentiment-analysis-train.jsonl\",\n",
    "    \"twitter-sentiment-analysis-validation.jsonl\",\n",
    "    \"twitter-sentiment-analysis-test.jsonl\"\n",
    "]\n",
    "\n",
    "# Usuwanie plików\n",
    "for file in files_to_delete:\n",
    "    if os.path.exists(file):\n",
    "        os.remove(file)\n",
    "        print(f\"Usunięto plik: {file}\")\n",
    "    else:\n",
    "        print(f\"Plik {file} nie istnieje.\")"
   ]
  }
 ],
 "metadata": {
  "kernelspec": {
   "display_name": "Python 3",
   "language": "python",
   "name": "python3"
  },
  "language_info": {
   "codemirror_mode": {
    "name": "ipython",
    "version": 3
   },
   "file_extension": ".py",
   "mimetype": "text/x-python",
   "name": "python",
   "nbconvert_exporter": "python",
   "pygments_lexer": "ipython3",
   "version": "3.11.3"
  }
 },
 "nbformat": 4,
 "nbformat_minor": 5
}
