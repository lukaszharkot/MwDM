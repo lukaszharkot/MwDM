{
 "cells": [
  {
   "cell_type": "markdown",
   "id": "9ea2eafd",
   "metadata": {},
   "source": [
    "Importujemy potrzebne biblioteki"
   ]
  },
  {
   "cell_type": "code",
   "execution_count": null,
   "id": "9bfe1283",
   "metadata": {},
   "outputs": [],
   "source": [
    "import os\n",
    "import json\n",
    "import unittest\n",
    "import datasets\n",
    "import numpy as np\n",
    "import pandas as pd\n",
    "import matplotlib.pyplot as plt\n",
    "from tensorflow.keras.layers import Embedding, LSTM, Dense, Dropout\n",
    "from tensorflow.keras.callbacks import EarlyStopping\n",
    "from tensorflow.keras.models import Sequential\n",
    "from tensorflow.keras.regularizers import l2\n",
    "from tensorflow.keras.preprocessing.text import Tokenizer\n",
    "from tensorflow.keras.preprocessing.sequence import pad_sequences"
   ]
  },
  {
   "cell_type": "markdown",
   "id": "34f24dcb",
   "metadata": {},
   "source": [
    "Pobieramy i przetwarzamy dane"
   ]
  },
  {
   "cell_type": "code",
   "execution_count": 144,
   "id": "4e8d1132",
   "metadata": {},
   "outputs": [
    {
     "name": "stderr",
     "output_type": "stream",
     "text": [
      "Creating json from Arrow format: 100%|██████████| 120/120 [00:01<00:00, 89.81ba/s]\n",
      "Creating json from Arrow format: 100%|██████████| 30/30 [00:00<00:00, 150.36ba/s]\n",
      "Creating json from Arrow format: 100%|██████████| 62/62 [00:00<00:00, 389.88ba/s]\n"
     ]
    }
   ],
   "source": [
    "# URL do pobrania danych\n",
    "_URL = \"https://raw.githubusercontent.com/cblancac/SentimentAnalysisBert/main/data/\"\n",
    "_URLS = {\n",
    "    \"train\": _URL + \"train_150k.txt\",\n",
    "    \"test\": _URL + \"test_62k.txt\"\n",
    "}\n",
    "\n",
    "# Funkcja przetwarzająca dane\n",
    "def _define_columns(example):\n",
    "    text_splited = example[\"text\"].split('\\t')\n",
    "    return {\"text\": text_splited[1].strip(), \"feeling\": int(text_splited[0])}\n",
    "\n",
    "# Pobranie danych\n",
    "data = datasets.load_dataset(\"text\", data_files=_URLS)\n",
    "\n",
    "# Przetwarzanie danych\n",
    "data = data.map(_define_columns)\n",
    "\n",
    "# Podział na zbiory treningowy, walidacyjny i testowy\n",
    "texts_dataset_clean = data[\"train\"].train_test_split(train_size=0.8, seed=42)\n",
    "\n",
    "# Zmiana nazwy zbioru testowego na walidacyjny i przypisanie oryginalnego zbioru testowego\n",
    "texts_dataset_clean[\"validation\"] = texts_dataset_clean.pop(\"test\")\n",
    "texts_dataset_clean[\"test\"] = data[\"test\"]\n",
    "\n",
    "# Ścieżka do zapisu danych w lokalnym folderze roboczym\n",
    "output_dir = os.getcwd()\n",
    "\n",
    "# Zapisanie danych do plików JSONL\n",
    "for split, dataset in texts_dataset_clean.items():\n",
    "    dataset.to_json(os.path.join(output_dir, f\"twitter-sentiment-analysis-{split}.jsonl\"))"
   ]
  },
  {
   "cell_type": "markdown",
   "id": "9c2b6c7d",
   "metadata": {},
   "source": [
    "Wczytujemy dane z przygotowanych plików JSONL"
   ]
  },
  {
   "cell_type": "code",
   "execution_count": 145,
   "id": "00a1b82c",
   "metadata": {},
   "outputs": [],
   "source": [
    "train_data = pd.read_json(\"twitter-sentiment-analysis-train.jsonl\", lines=True)\n",
    "val_data = pd.read_json(\"twitter-sentiment-analysis-validation.jsonl\", lines=True)\n",
    "test_data = pd.read_json(\"twitter-sentiment-analysis-test.jsonl\", lines=True)\n",
    "\n",
    "X_train, y_train = train_data[\"text\"], train_data[\"feeling\"]\n",
    "X_val, y_val = val_data[\"text\"], val_data[\"feeling\"]\n",
    "X_test, y_test = test_data[\"text\"], test_data[\"feeling\"]"
   ]
  },
  {
   "cell_type": "markdown",
   "id": "4c9169ae",
   "metadata": {},
   "source": [
    "Przygotowujemy dane"
   ]
  },
  {
   "cell_type": "code",
   "execution_count": 146,
   "id": "bbf3460c",
   "metadata": {},
   "outputs": [],
   "source": [
    "max_words = 20000\n",
    "max_len = 100\n",
    "\n",
    "tokenizer = Tokenizer(num_words=max_words)\n",
    "tokenizer.fit_on_texts(X_train)\n",
    "X_train_seq = tokenizer.texts_to_sequences(X_train)\n",
    "X_val_seq = tokenizer.texts_to_sequences(X_val)\n",
    "X_test_seq = tokenizer.texts_to_sequences(X_test)\n",
    "\n",
    "X_train_pad = pad_sequences(X_train_seq, maxlen=max_len)\n",
    "X_val_pad = pad_sequences(X_val_seq, maxlen=max_len)\n",
    "X_test_pad = pad_sequences(X_test_seq, maxlen=max_len)"
   ]
  },
  {
   "cell_type": "markdown",
   "id": "b815bd9e",
   "metadata": {},
   "source": [
    "Budujemy i trenujemy model"
   ]
  },
  {
   "cell_type": "code",
   "execution_count": 148,
   "id": "84d8a7ea",
   "metadata": {},
   "outputs": [
    {
     "name": "stdout",
     "output_type": "stream",
     "text": [
      "Epoch 1/30\n",
      "\u001b[1m469/469\u001b[0m \u001b[32m━━━━━━━━━━━━━━━━━━━━\u001b[0m\u001b[37m\u001b[0m \u001b[1m116s\u001b[0m 240ms/step - accuracy: 0.6970 - loss: 0.7999 - val_accuracy: 0.7901 - val_loss: 0.4599\n",
      "Epoch 2/30\n",
      "\u001b[1m469/469\u001b[0m \u001b[32m━━━━━━━━━━━━━━━━━━━━\u001b[0m\u001b[37m\u001b[0m \u001b[1m114s\u001b[0m 243ms/step - accuracy: 0.8172 - loss: 0.4171 - val_accuracy: 0.7942 - val_loss: 0.4465\n",
      "Epoch 3/30\n",
      "\u001b[1m469/469\u001b[0m \u001b[32m━━━━━━━━━━━━━━━━━━━━\u001b[0m\u001b[37m\u001b[0m \u001b[1m112s\u001b[0m 238ms/step - accuracy: 0.8390 - loss: 0.3703 - val_accuracy: 0.7914 - val_loss: 0.4665\n",
      "Epoch 4/30\n",
      "\u001b[1m469/469\u001b[0m \u001b[32m━━━━━━━━━━━━━━━━━━━━\u001b[0m\u001b[37m\u001b[0m \u001b[1m115s\u001b[0m 245ms/step - accuracy: 0.8604 - loss: 0.3279 - val_accuracy: 0.7882 - val_loss: 0.4856\n",
      "Epoch 5/30\n",
      "\u001b[1m469/469\u001b[0m \u001b[32m━━━━━━━━━━━━━━━━━━━━\u001b[0m\u001b[37m\u001b[0m \u001b[1m116s\u001b[0m 247ms/step - accuracy: 0.8764 - loss: 0.2923 - val_accuracy: 0.7866 - val_loss: 0.5226\n",
      "Epoch 6/30\n",
      "\u001b[1m469/469\u001b[0m \u001b[32m━━━━━━━━━━━━━━━━━━━━\u001b[0m\u001b[37m\u001b[0m \u001b[1m116s\u001b[0m 247ms/step - accuracy: 0.8927 - loss: 0.2592 - val_accuracy: 0.7810 - val_loss: 0.5859\n",
      "Epoch 7/30\n",
      "\u001b[1m469/469\u001b[0m \u001b[32m━━━━━━━━━━━━━━━━━━━━\u001b[0m\u001b[37m\u001b[0m \u001b[1m114s\u001b[0m 242ms/step - accuracy: 0.9086 - loss: 0.2281 - val_accuracy: 0.7764 - val_loss: 0.6471\n",
      "Epoch 8/30\n",
      "\u001b[1m469/469\u001b[0m \u001b[32m━━━━━━━━━━━━━━━━━━━━\u001b[0m\u001b[37m\u001b[0m \u001b[1m112s\u001b[0m 238ms/step - accuracy: 0.9153 - loss: 0.2070 - val_accuracy: 0.7695 - val_loss: 0.7121\n",
      "Epoch 9/30\n",
      "\u001b[1m469/469\u001b[0m \u001b[32m━━━━━━━━━━━━━━━━━━━━\u001b[0m\u001b[37m\u001b[0m \u001b[1m112s\u001b[0m 238ms/step - accuracy: 0.9268 - loss: 0.1871 - val_accuracy: 0.7687 - val_loss: 0.7591\n",
      "Epoch 10/30\n",
      "\u001b[1m469/469\u001b[0m \u001b[32m━━━━━━━━━━━━━━━━━━━━\u001b[0m\u001b[37m\u001b[0m \u001b[1m109s\u001b[0m 232ms/step - accuracy: 0.9366 - loss: 0.1679 - val_accuracy: 0.7640 - val_loss: 0.7658\n",
      "Epoch 11/30\n",
      "\u001b[1m469/469\u001b[0m \u001b[32m━━━━━━━━━━━━━━━━━━━━\u001b[0m\u001b[37m\u001b[0m \u001b[1m114s\u001b[0m 242ms/step - accuracy: 0.9423 - loss: 0.1508 - val_accuracy: 0.7612 - val_loss: 0.8615\n",
      "Epoch 12/30\n",
      "\u001b[1m469/469\u001b[0m \u001b[32m━━━━━━━━━━━━━━━━━━━━\u001b[0m\u001b[37m\u001b[0m \u001b[1m108s\u001b[0m 230ms/step - accuracy: 0.9453 - loss: 0.1412 - val_accuracy: 0.7605 - val_loss: 0.8527\n"
     ]
    }
   ],
   "source": [
    "# Definicja modelu\n",
    "model = Sequential([\n",
    "    Embedding(input_dim=max_words, output_dim=128, input_length=max_len),\n",
    "    LSTM(64, return_sequences=False),\n",
    "    Dropout(0.5),\n",
    "    Dense(64, activation='relu', kernel_regularizer=l2(0.01)),\n",
    "    Dropout(0.3),\n",
    "    Dense(1, activation='sigmoid')\n",
    "])\n",
    "\n",
    "model.compile(loss='binary_crossentropy', optimizer='adam', metrics=['accuracy'])\n",
    "early_stopping = EarlyStopping(monitor='val_loss', patience=10, restore_best_weights=True)\n",
    "\n",
    "# Trenowanie modelu z EarlyStopping\n",
    "history = model.fit(\n",
    "    X_train_pad, y_train,\n",
    "    epochs=30,\n",
    "    batch_size=256,\n",
    "    validation_data=(X_val_pad, y_val),\n",
    "    callbacks=[early_stopping]\n",
    ")\n"
   ]
  },
  {
   "cell_type": "markdown",
   "id": "5b9a6c36",
   "metadata": {},
   "source": [
    "Wyświetlamy wykres dokładności modelu"
   ]
  },
  {
   "cell_type": "code",
   "execution_count": 150,
   "id": "0054d7f4",
   "metadata": {},
   "outputs": [
    {
     "data": {
      "image/png": "[encoded data removed]",
      "text/plain": [
       "<Figure size 640x480 with 1 Axes>"
      ]
     },
     "metadata": {},
     "output_type": "display_data"
    },
    {
     "name": "stdout",
     "output_type": "stream",
     "text": [
      "\u001b[1m1938/1938\u001b[0m \u001b[32m━━━━━━━━━━━━━━━━━━━━\u001b[0m\u001b[37m\u001b[0m \u001b[1m26s\u001b[0m 13ms/step - accuracy: 0.7902 - loss: 0.4486\n",
      "Dokładność na zbiorze testowym: 0.79\n"
     ]
    }
   ],
   "source": [
    "plt.plot(history.history['accuracy'], label='Trening')\n",
    "plt.plot(history.history['val_accuracy'], label='Walidacja')\n",
    "plt.xlabel('Epoka')\n",
    "plt.ylabel('Dokładność')\n",
    "plt.legend()\n",
    "plt.show()\n",
    "\n",
    "test_loss, test_acc = model.evaluate(X_test_pad, y_test)\n",
    "print(f'Dokładność na zbiorze testowym: {test_acc:.2f}')"
   ]
  },
  {
   "cell_type": "markdown",
   "id": "d5e0f15d",
   "metadata": {},
   "source": [
    "Wyświetlamy przykładowe predykcje i rzeczywiste etykiety"
   ]
  },
  {
   "cell_type": "code",
   "execution_count": null,
   "id": "2c2145a4",
   "metadata": {},
   "outputs": [
    {
     "name": "stdout",
     "output_type": "stream",
     "text": [
      "Przykładowe predykcje:\n",
      "\u001b[1m1/1\u001b[0m \u001b[32m━━━━━━━━━━━━━━━━━━━━\u001b[0m\u001b[37m\u001b[0m \u001b[1m0s\u001b[0m 47ms/step\n",
      "\n",
      " Tweet: @justineville ...yeahhh. ) i'm 39 tweets from 1,600! \n",
      " Predykcja: Negatywna, Rzeczywista etykieta: Negatywna\n",
      "\n",
      " Tweet: @ApplesnFeathers aww. Poor baby! On your only REAL day off. \n",
      " Predykcja: Pozytywna, Rzeczywista etykieta: Pozytywna\n",
      "\n",
      " Tweet: @joeymcintyre With my refunded $225 (Australian ticket price) I bought me a hot pair of brown boots  Woulda rathered seeing U any day \n",
      " Predykcja: Pozytywna, Rzeczywista etykieta: Negatywna\n",
      "\n",
      " Tweet: It's fine. Today sucks just because me those things. i dunno if i can see you \n",
      " Predykcja: Pozytywna, Rzeczywista etykieta: Pozytywna\n",
      "\n",
      " Tweet: Im just chilling on psp and stuff, but sitting on pc now, also watching wimledon, getting ready for holiday @WhiteTigerNora Ahh poor you \n",
      " Predykcja: Negatywna, Rzeczywista etykieta: Negatywna\n",
      "\n",
      " Tweet: @lisarinna very sad Lisa...she is freeeeeeeeeeee an Angel in Heaven xoxo \n",
      " Predykcja: Negatywna, Rzeczywista etykieta: Negatywna\n",
      "\n",
      " Tweet: Comfortablity has won out \n",
      " Predykcja: Negatywna, Rzeczywista etykieta: Pozytywna\n",
      "\n",
      " Tweet: blaaah. I don't feel good aagain \n",
      " Predykcja: Negatywna, Rzeczywista etykieta: Pozytywna\n"
     ]
    }
   ],
   "source": [
    "print('Przykładowe predykcje:')\n",
    "\n",
    "random_tweets = np.random.choice(len(X_test_pad), size=8, replace=False)\n",
    "predictions = model.predict(X_test_pad[random_tweets])\n",
    "for i, pred in enumerate(predictions):\n",
    "    actual_label = y_test.iloc[random_tweets[i]] \n",
    "    print(f'\\n Tweet: {X_test.iloc[i]} \\n Predykcja: {\"Pozytywna\" if pred > 0.5 else \"Negatywna\"}, Rzeczywista etykieta: {\"Pozytywna\" if actual_label == 1 else \"Negatywna\"}')"
   ]
  },
  {
   "cell_type": "markdown",
   "id": "16108b8f",
   "metadata": {},
   "source": [
    "Unit Testy"
   ]
  },
  {
   "cell_type": "code",
   "execution_count": null,
   "id": "76f7c16b",
   "metadata": {},
   "outputs": [
    {
     "name": "stderr",
     "output_type": "stream",
     "text": [
      "...\n",
      "----------------------------------------------------------------------\n",
      "Ran 3 tests in 12.583s\n",
      "\n",
      "OK\n"
     ]
    },
    {
     "data": {
      "text/plain": [
       "<unittest.main.TestProgram at 0x275ba59f990>"
      ]
     },
     "execution_count": 149,
     "metadata": {},
     "output_type": "execute_result"
    }
   ],
   "source": [
    "class TestTwitterSentimentAnalysis(unittest.TestCase):\n",
    "\n",
    "    @classmethod\n",
    "    def setUpClass(cls):\n",
    "        global X_train_pad, X_val_pad, X_test_pad, max_len\n",
    "\n",
    "        cls.X_train_pad = X_train_pad\n",
    "        cls.X_val_pad = X_val_pad\n",
    "        cls.X_test_pad = X_test_pad\n",
    "        cls.max_len = max_len\n",
    "\n",
    "    def test_tokenization_and_padding(self):\n",
    "        # Sprawdzamy czy wszystkie sekwencje mają odpowiedni kształt\n",
    "        self.assertEqual(self.X_train_pad.shape[1], self.max_len)\n",
    "        self.assertEqual(self.X_val_pad.shape[1], self.max_len)\n",
    "        self.assertEqual(self.X_test_pad.shape[1], self.max_len)\n",
    "\n",
    "        # Sprawdzamy długość jednej sekwencji z każdego zestawu\n",
    "        self.assertEqual(len(self.X_train_pad[0]), self.max_len)\n",
    "        self.assertEqual(len(self.X_val_pad[0]), self.max_len)\n",
    "        self.assertEqual(len(self.X_test_pad[0]), self.max_len)\n",
    "\n",
    "        # Sprawdzamy czy wynik tokenizacji jest poprawny\n",
    "        self.assertGreater(len(self.X_train_pad[0]), 0)\n",
    "        self.assertGreater(len(self.X_val_pad[0]), 0)\n",
    "        self.assertGreater(len(self.X_test_pad[0]), 0)\n",
    "\n",
    "        # Sprawdzamy czy każdy token jest liczbą całkowitą (prawidłowa tokenizacja)\n",
    "        for sequence in [self.X_train_pad, self.X_val_pad, self.X_test_pad]:\n",
    "            for token_list in sequence:\n",
    "                # Debugowanie: wydrukuj tokeny, które nie spełniają warunku\n",
    "                for token in token_list:\n",
    "                    if not (isinstance(token, (int, np.integer)) and token >= 0):\n",
    "                        print(f\"Nieprawidłowy token: {token} (typ: {type(token)})\")\n",
    "\n",
    "                self.assertTrue(all(isinstance(token, (int, np.integer)) and token >= 0 for token in token_list), \"Tokenizacja nieprawidłowa: znaleziono niepoprawne tokeny\")\n",
    "\n",
    "    def test_define_columns(self):\n",
    "        # Przykładowy tweet\n",
    "        example = {\"text\": \"1\\tGood morning, friend!\"}\n",
    "        expected_output = {\"text\": \"Good morning, friend!\", \"feeling\": 1}\n",
    "        result = _define_columns(example)\n",
    "        self.assertEqual(result, expected_output)\n",
    "\n",
    "    def test_jsonl_files(self):\n",
    "        # Sprawdź, czy pliki JSONL są tworzone z odpowiednią strukturą\n",
    "        data_dir = \".\" \n",
    "        train_file = os.path.join(data_dir, \"twitter-sentiment-analysis-train.jsonl\")\n",
    "        validation_file = os.path.join(data_dir, \"twitter-sentiment-analysis-validation.jsonl\")\n",
    "        test_file = os.path.join(data_dir, \"twitter-sentiment-analysis-test.jsonl\")\n",
    "\n",
    "        # Sprawdź, czy pliki istnieją\n",
    "        self.assertTrue(os.path.exists(train_file), \"Plik treningowy nie istnieje\")\n",
    "        self.assertTrue(os.path.exists(validation_file), \"Plik walidacyjny nie istnieje\")\n",
    "        self.assertTrue(os.path.exists(test_file), \"Plik testowy nie istnieje\")\n",
    "\n",
    "        # Sprawdź strukturę pierwszego wpisu w każdym pliku JSONL (\"text\" i \"feeling\")\n",
    "        with open(train_file, 'r', encoding='utf-8') as file:\n",
    "            train_data = json.loads(file.readline())\n",
    "            self.assertIn(\"text\", train_data)\n",
    "            self.assertIn(\"feeling\", train_data)\n",
    "\n",
    "        with open(validation_file, 'r', encoding='utf-8') as file:\n",
    "            validation_data = json.loads(file.readline())\n",
    "            self.assertIn(\"text\", validation_data)\n",
    "            self.assertIn(\"feeling\", validation_data)\n",
    "\n",
    "        with open(test_file, 'r', encoding='utf-8') as file:\n",
    "            test_data = json.loads(file.readline())\n",
    "            self.assertIn(\"text\", test_data)\n",
    "            self.assertIn(\"feeling\", test_data)\n",
    "\n",
    "unittest.main(argv=[''], exit=False)\n"
   ]
  },
  {
   "cell_type": "markdown",
   "id": "62847d06",
   "metadata": {},
   "source": [
    "Usuwamy stworzone pliki JSONL"
   ]
  },
  {
   "cell_type": "code",
   "execution_count": 151,
   "id": "4f2be5a4",
   "metadata": {},
   "outputs": [
    {
     "name": "stdout",
     "output_type": "stream",
     "text": [
      "Usunięto plik: twitter-sentiment-analysis-train.jsonl\n",
      "Usunięto plik: twitter-sentiment-analysis-validation.jsonl\n",
      "Usunięto plik: twitter-sentiment-analysis-test.jsonl\n"
     ]
    }
   ],
   "source": [
    "files_to_delete = [\n",
    "    \"twitter-sentiment-analysis-train.jsonl\",\n",
    "    \"twitter-sentiment-analysis-validation.jsonl\",\n",
    "    \"twitter-sentiment-analysis-test.jsonl\"\n",
    "]\n",
    "\n",
    "# Usuwanie plików\n",
    "for file in files_to_delete:\n",
    "    if os.path.exists(file):\n",
    "        os.remove(file)\n",
    "        print(f\"Usunięto plik: {file}\")\n",
    "    else:\n",
    "        print(f\"Plik {file} nie istnieje.\")"
   ]
  }
 ],
 "metadata": {
  "kernelspec": {
   "display_name": "Python 3",
   "language": "python",
   "name": "python3"
  },
  "language_info": {
   "codemirror_mode": {
    "name": "ipython",
    "version": 3
   },
   "file_extension": ".py",
   "mimetype": "text/x-python",
   "name": "python",
   "nbconvert_exporter": "python",
   "pygments_lexer": "ipython3",
   "version": "3.11.3"
  }
 },
 "nbformat": 4,
 "nbformat_minor": 5
}
